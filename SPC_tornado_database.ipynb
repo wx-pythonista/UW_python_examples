{
 "cells": [
  {
   "cell_type": "markdown",
   "metadata": {},
   "source": [
    "# Exploring the SPC tornado database"
   ]
  },
  {
   "cell_type": "markdown",
   "metadata": {},
   "source": [
    "Let's explore the SPC tornado database. Data may be downloaded from: https://www.spc.noaa.gov/wcm/data/1950-2018_actual_tornadoes.csv"
   ]
  },
  {
   "cell_type": "code",
   "execution_count": null,
   "metadata": {
    "collapsed": true
   },
   "outputs": [],
   "source": [
    "#set up environment\n",
    "import matplotlib\n",
    "import matplotlib.pyplot as plt\n",
    "from IPython.display import display\n",
    "import numpy as np\n",
    "import datetime\n",
    "import pandas as pd\n",
    "import seaborn as sns\n",
    "import pytz\n",
    "import warnings\n",
    "\n",
    "warnings.simplefilter(\"ignore\")\n",
    "sns.set_style('darkgrid')\n",
    "%matplotlib inline"
   ]
  },
  {
   "cell_type": "markdown",
   "metadata": {},
   "source": [
    "Using Pandas, we can read in csv files very easily! Further, we can read the data in as a DataFrame, a type of 2-D labeled data structure in Pandas that is akin to a table or spreadsheet. There are a lot of nifty ways to analyze and visualize Pandas dataframes, so let'd dive into the data!"
   ]
  },
  {
   "cell_type": "code",
   "execution_count": null,
   "metadata": {},
   "outputs": [],
   "source": [
    "#df = pd.read_csv('https://www.spc.noaa.gov/wcm/data/1950-2018_actual_tornadoes.csv')\n",
    "df = pd.read_csv('1950-2018_actual_tornadoes.csv')\n",
    "print('ORIGINAL columns',df.columns)\n",
    "df.rename(columns={'mag': 'tor_rate'},inplace=True)\n",
    "print(df.columns)\n",
    "#we can drop unnecessary columns, such as 'om' for example\n",
    "df.drop('om',axis=1,inplace=True)\n",
    "print(df.columns)"
   ]
  },
  {
   "cell_type": "code",
   "execution_count": null,
   "metadata": {},
   "outputs": [],
   "source": [
    "#tornadoes without a rating are given a value of -9\n",
    "#estimated F/EF ratings are given by the 'fc' column\n",
    "#let's replace all values of -9 with the estimate values in fc\n",
    "print('original unique ratings',np.unique(df['tor_rate']))\n"
   ]
  },
  {
   "cell_type": "code",
   "execution_count": null,
   "metadata": {},
   "outputs": [],
   "source": [
    "#use numpy where to find the indices where 'tor_rate' ==-9\n",
    "where = np.where(df['tor_rate']==-9.)[0]\n",
    "print('where',where)\n",
    "#use these indices to replace values\n",
    "df['tor_rate'].iloc[where] = df['fc'].iloc[where]\n",
    "print(df['tor_rate'])\n",
    "\n",
    "print('unique ratings',np.unique(df['tor_rate']))"
   ]
  },
  {
   "cell_type": "code",
   "execution_count": null,
   "metadata": {},
   "outputs": [],
   "source": [
    "#create a column of datetimes using 'date' and 'time' columns\n",
    "df['datetime'] = pd.to_datetime(df['date']+' '+df['time'],format='%Y%m%d %H:%M:%S')\n",
    "tzs = df['tz']\n",
    "\n",
    "def convert2UTC(row):\n",
    "    #this function will convert timezone-aware datetimes to UTC\n",
    "    if row['tz'] == 3:\n",
    "        dat = row['datetime'].tz_localize(pytz.timezone('US/Central'))\n",
    "        datutc = dat.tz_convert(pytz.timezone('UTC'))\n",
    "        \n",
    "    elif row['tz'] == 9:\n",
    "        dat = row['datetime'].tz_localize(pytz.timezone('GMT'))\n",
    "        datutc = dat.tz_convert(pytz.timezone('UTC'))\n",
    "        \n",
    "    else:\n",
    "        datutc = row['datetime'].tz_localize(pytz.timezone('UTC'))\n",
    "        \n",
    "    return datutc\n",
    "\n",
    "#create a UTC datetime column\n",
    "df['dates_utc'] = df.apply(lambda row: convert2UTC(row), axis=1)\n",
    "#dates_utc should now be a new column in the dataframe\n",
    "print(df['dates_utc'],df['dates_utc'].values)\n",
    "#we often will want to aggregate tornadoes by convective day (12-12Z)\n",
    "df['convective_day'] = df['dates_utc'].dt.strftime('%Y-%m-%d')\n",
    "#we can set a column to have the name of the month\n",
    "df['month_name']  = df['dates_utc'].dt.strftime('%B')\n",
    "\n"
   ]
  },
  {
   "cell_type": "markdown",
   "metadata": {
    "collapsed": true
   },
   "source": [
    "Let's start exploring our data and making some plots! First, let's create a timeseries of annual tornado counts by rating"
   ]
  },
  {
   "cell_type": "code",
   "execution_count": null,
   "metadata": {},
   "outputs": [],
   "source": [
    "#use 'groupby' to aggregate by year and rating\n",
    "group = df.groupby(['yr','tor_rate']).agg(tornado_count = pd.NamedAgg('tor_rate','count'))\n",
    "print(group)\n",
    "\n",
    "#print('index',group.index,'names of each level of index',group.index.names)"
   ]
  },
  {
   "cell_type": "code",
   "execution_count": null,
   "metadata": {},
   "outputs": [],
   "source": [
    "fig = plt.figure()\n",
    "fig.set_size_inches(8,6)\n",
    "sns.lineplot(x='yr',y='tornado_count',hue='tor_rate',data=group,palette=sns.color_palette(\"hls\", 6))\n",
    "#now let's plot a line with all F/EF-1+ tornadoes\n",
    "sns.lineplot(x='yr',y='tornado_count',data=group.drop(0, level='tor_rate').groupby(level=[0]).sum(),color='k')\n",
    "plt.ylim(ymin=0)\n",
    "plt.xlim(group.index.get_level_values('yr').min(),group.index.get_level_values('yr').max())\n",
    "plt.show()"
   ]
  },
  {
   "cell_type": "markdown",
   "metadata": {},
   "source": [
    "We can also compare tornado counts vs. tornado days"
   ]
  },
  {
   "cell_type": "code",
   "execution_count": null,
   "metadata": {},
   "outputs": [],
   "source": [
    "df['tor_day'] = df['dates_utc'].dt.strftime('%Y-%m-%d')\n",
    "torday_group = df.groupby(['yr','tor_rate','tor_day']).agg(tornado_day = pd.NamedAgg('tor_day','nunique')).groupby(['yr','tor_rate']).sum()\n",
    "print(torday_group)"
   ]
  },
  {
   "cell_type": "code",
   "execution_count": null,
   "metadata": {},
   "outputs": [],
   "source": [
    "fig,ax = plt.subplots(nrows=1,ncols=1,figsize=(8,6))\n",
    "twin_ax = ax.twinx()\n",
    "g1 = sns.lineplot(x='yr',y='tornado_count',hue='tor_rate',data=group,palette=sns.color_palette(\"hls\", 6),ax=ax)\n",
    "g2 = sns.lineplot(x='yr',y='tornado_day',hue='tor_rate',data=torday_group,palette=sns.color_palette(\"hls\", 6),linestyle='--',ax=twin_ax)\n",
    "ax.set_ylim(ymin=0)\n",
    "twin_ax.set_ylim(ymin=0)\n",
    "ax.grid(False)\n",
    "twin_ax.grid(False)\n",
    "g1.legend_.remove()\n",
    "plt.xlim(group.index.get_level_values('yr').min(),group.index.get_level_values('yr').max())\n",
    "plt.show()"
   ]
  },
  {
   "cell_type": "markdown",
   "metadata": {},
   "source": [
    "Are tornado days and tornado counts correlated?"
   ]
  },
  {
   "cell_type": "code",
   "execution_count": null,
   "metadata": {},
   "outputs": [],
   "source": [
    "#fill in missing groups with zero\n",
    "group = group.unstack(fill_value=0).stack()\n",
    "torday_group = torday_group.unstack(fill_value=0).stack()\n",
    "for irx,rate in enumerate(np.arange(6)):\n",
    "    #extract time series from the groupby dfs by rating\n",
    "    #xs allows us to select multiindex values\n",
    "    tcount = group.xs(rate,level=1)\n",
    "    tday = torday_group.xs(rate,level=1)\n",
    "    pearsonr = tcount.corrwith(other=tday['tornado_day'],method='pearson',axis=0)\n",
    "    print('rating:',rate)\n",
    "    print('----------------')\n",
    "    print('pearsonr:',pearsonr)\n",
    "    print()"
   ]
  },
  {
   "cell_type": "markdown",
   "metadata": {},
   "source": [
    "Now, let's look at the distribution of tornadoes by F/EF rating "
   ]
  },
  {
   "cell_type": "code",
   "execution_count": null,
   "metadata": {},
   "outputs": [],
   "source": [
    "fig = plt.figure()\n",
    "fig.set_size_inches(8,6)\n",
    "#first, we need reset our index from a multiindex\n",
    "annual_sum = group.reset_index()\n",
    "#plot boxplots by rating using Seaborn\n",
    "sns.boxplot(x='tor_rate',y='tornado_count',data=annual_sum,palette=sns.color_palette(\"hls\", 6))\n",
    "plt.show()"
   ]
  },
  {
   "cell_type": "code",
   "execution_count": null,
   "metadata": {},
   "outputs": [],
   "source": [
    "df2 =df.drop(df[df['tor_rate'] == 0].index)\n",
    "mongroup = df2.groupby(['yr','mo','tor_rate']).agg(tornado_count = pd.NamedAgg('tor_rate','count'))\n",
    "#fill in missing groups with zero\n",
    "mongroup = mongroup.unstack(fill_value=0).stack()\n",
    "monthnames = pd.unique(df['month_name'])\n",
    "idx = pd.IndexSlice\n",
    "fig,ax = plt.subplots(nrows=3,ncols=4,figsize=(20,18))\n",
    "for iax,axs in enumerate(ax.ravel()):\n",
    "    #sns.lineplot(x='yr',y='tornado_count',hue='tor_rate',data=mongroup.loc[idx[:,iax+1],:],ax=axs,palette=sns.color_palette(\"hls\", 5))\n",
    "    sns.lineplot(x='yr',y='tornado_count',data=mongroup.loc[idx[:,iax+1],:].groupby(level=[0]).sum(),ax=axs,color='k')\n",
    "    axs.set_title('{}'.format(monthnames[iax]),fontsize='large',weight='bold')\n",
    "    axs.set_ylim(ymin=0)\n",
    "    axs.set_xlim(mongroup.index.get_level_values('yr').min(),mongroup.index.get_level_values('yr').max())\n",
    "plt.show()"
   ]
  },
  {
   "cell_type": "raw",
   "metadata": {},
   "source": [
    "A study by Tippett (2014) has shown that the annual number of F/EF-0+ tornadoes has become more variable from year-to-year, perhaps due to tornadoes occurring more frequently in clusters. Let's examine this annual variability."
   ]
  },
  {
   "cell_type": "code",
   "execution_count": null,
   "metadata": {},
   "outputs": [],
   "source": [
    "print('group',group)\n",
    "ef0plus = group.groupby(level=[0]).sum()\n",
    "ef1plus = group.drop(0, level='tor_rate').groupby(level=[0]).sum()\n",
    "ef2plus = group.drop(1, level='tor_rate').groupby(level=[0]).sum()\n",
    "\n",
    "dfs = [ef0plus,ef1plus,ef2plus]\n",
    "colors = ['k','r','b']\n",
    "fig,ax = plt.subplots(ncols=1,nrows=len(dfs),figsize=(10,14))\n",
    "for idx,dff in enumerate(dfs):\n",
    "    #find the year-to-year difference (first-order difference)\n",
    "    diff = dff.diff(periods=1,axis = 0).fillna(0)\n",
    "    sns.lineplot(x='yr',y='tornado_count',data=diff,color=colors[idx],ax=ax.ravel()[idx])\n",
    "    ax[idx].set_xlim(diff.index.get_level_values('yr').min(),diff.index.get_level_values('yr').max())\n",
    "    ax[idx].set_title('First-Order Difference of Annual F/EF-{}+ Tornadoes'.format(idx))\n",
    "plt.show()"
   ]
  },
  {
   "cell_type": "raw",
   "metadata": {},
   "source": [
    "We can visually see that there is little change in the mean of the differenced time series, however, the variability toward the latter end of the time series has obviously increased"
   ]
  },
  {
   "cell_type": "code",
   "execution_count": null,
   "metadata": {},
   "outputs": [],
   "source": [
    "import ruptures as rpt\n",
    "fig,ax = plt.subplots(ncols=1,nrows=len(dfs),figsize=(10,14))\n",
    "model='l2' #piecewise linear model\n",
    "years = dff.index.values\n",
    "print('year',years)\n",
    "for idx,dff in enumerate(dfs):\n",
    "    #find the year-to-year difference (first-order difference)\n",
    "    diff = dff.diff(periods=1,axis = 0).fillna(0)\n",
    "    print(diff)\n",
    "    sns.lineplot(x='yr',y='tornado_count',data=diff,color=colors[idx],ax=ax.ravel()[idx])\n",
    "    ax[idx].set_xlim(diff.index.get_level_values('yr').min(),diff.index.get_level_values('yr').max())\n",
    "    algo = rpt.Pelt(model=model,min_size=15).fit(diff['tornado_count'].to_numpy().squeeze())\n",
    "    chpts = np.array(algo.predict(pen=3))[0:-1]\n",
    "    for c in chpts:\n",
    "        ax[idx].axvline(years[c],color=colors[idx],linestyle=':',linewidth=3)\n",
    "    ax[idx].set_title('First-Order Difference of Annual F/EF-{}+ Tornadoes'.format(idx))\n",
    "plt.show()"
   ]
  },
  {
   "cell_type": "markdown",
   "metadata": {},
   "source": [
    "# Plot tornado tracks"
   ]
  },
  {
   "cell_type": "code",
   "execution_count": null,
   "metadata": {},
   "outputs": [],
   "source": [
    "apr27 = df.loc[df.convective_day=='2011-04-27']\n",
    "print(apr27.columns)\n",
    "print('Total fatalities:',apr27['fat'].sum())\n",
    "print('Total injuries:',apr27['inj'].sum())\n",
    "print('Total tornado pathlength (mi):',apr27['len'].sum())\n",
    "apr27group = apr27.groupby(['tor_rate']).agg(numberOfTors=pd.NamedAgg('tor_rate','count'),fatalities=pd.NamedAgg('fat','sum'),injuries=pd.NamedAgg('inj','sum'),total_pathlength=pd.NamedAgg('len','sum'))\n",
    "print(apr27group)\n"
   ]
  },
  {
   "cell_type": "code",
   "execution_count": null,
   "metadata": {},
   "outputs": [],
   "source": [
    "import matplotlib.path as Path\n",
    "import matplotlib.patches as patches\n",
    "import os\n",
    "os.environ['PROJ_LIB'] = r'/home/khoogewi/.conda/envs/cent7/5.3.1-py37/py37/share/proj'\n",
    "from mpl_toolkits.basemap import Basemap\n",
    "import matplotlib.lines as mlines\n",
    "\n",
    "minlat = 26\n",
    "maxlat = 41 \n",
    "minlon = -98\n",
    "maxlon = -72\n",
    "lat_0 = 60.\n",
    "lon_0 = 262.-360.\n",
    "latin1 = 60.\n",
    "latin2 = 30.\n",
    "\n",
    "\n",
    "fig,ax = plt.subplots(nrows=1,ncols=1,figsize=(12,8))\n",
    "m = Basemap(projection='lcc',lat_0=lat_0,lon_0=lon_0,\n",
    "       llcrnrlat=minlat,urcrnrlat=maxlat, llcrnrlon=minlon,urcrnrlon=maxlon,\n",
    "       lat_1=latin1,lat_2=latin2,resolution='h',area_thresh=10000.)\n",
    "#m.shadedrelief(alpha=0.25)\n",
    "m.drawlsmask(ocean_color='azure',land_color='wheat')\n",
    "m.drawcounties(linewidth=0.15,color='grey')\n",
    "m.drawcoastlines(linewidth=1.)\n",
    "m.drawstates(linewidth=0.75)\n",
    "m.drawcountries(linewidth=1.)\n",
    "parallels = np.arange(0.,90,5.)\n",
    "m.drawparallels(parallels,labels=[1,0,0,0],fontsize=10,color='dimgrey')\n",
    "meridians = np.arange(180.,360.,10.)\n",
    "m.drawmeridians(meridians,labels=[0,0,0,1],fontsize=10,color='dimgrey')\n",
    "\n",
    "\n",
    "trate,btorlat,btorlon,etorlat,etorlon = apr27['tor_rate'].values,apr27['slat'].values,apr27['slon'].values,apr27['elat'].values,apr27['elon'].values\n",
    "\n",
    "for rate,blat,blon,elat,elon in list(zip(trate,btorlat,btorlon,etorlat,etorlon)):\n",
    "    if rate== 0:\n",
    "       color='purple'\n",
    "    elif rate == 1:\n",
    "       color='blue'\n",
    "    elif rate == 2:\n",
    "       color='green'\n",
    "    elif rate == 3:\n",
    "       color='magenta'\n",
    "    elif rate == 4:\n",
    "       color='orange'\n",
    "    elif rate == 5:\n",
    "       color = 'red'\n",
    "    else:\n",
    "       color = 'black'\n",
    "    #some reports do not have an ending lat/lon of tor path\n",
    "    if elon == 0. or elat == 0.:\n",
    "       x1,y1 = m(blon,blat)\n",
    "       x2,y2 = m(blon,blat)\n",
    "       ax.plot(x1,y1,marker='o',markersize=1,color=color)\n",
    "    else:\n",
    "       x1,y1 = m(blon,blat)\n",
    "       x2,y2 = m(elon,elat)\n",
    "       #ax.plot(x1,y1,marker='o',markersize=0.75,color=color)  \n",
    "    cpath = matplotlib.path.Path(((x1,y1),(x2,y2)))\n",
    "    cpatch=patches.PathPatch(cpath,edgecolor=color,lw=2)\n",
    "    ax.add_patch(cpatch)\n",
    "    \n",
    "colors = ['purple','blue','green','magenta','orange','red']\n",
    "ratings = np.arange(0,6,1)\n",
    "lines = []\n",
    "for color,rate2 in zip(colors[rate:],ratings[rate:]):\n",
    "        lines.append(mlines.Line2D([], [], color=color,\n",
    "                          markersize=15, label='EF-%s'%rate2))# for color,rate in zip(colors,ratings)]\n",
    "plt.title('April 27, 2011 Tornadoes',fontsize='xx-large',weight='bold')\n",
    "labels = [\"EF-%s\"%rat for rat in np.arange(1,6,1)]\n",
    "fig.legend(lines,labels,loc='best',title='Tornado Rating')\n",
    "plt.show()\n",
    "\n",
    "    \n"
   ]
  },
  {
   "cell_type": "code",
   "execution_count": null,
   "metadata": {
    "collapsed": true
   },
   "outputs": [],
   "source": []
  }
 ],
 "metadata": {
  "kernelspec": {
   "display_name": "Python [conda env: py37]",
   "language": "python",
   "name": "conda-env-py37-py"
  },
  "language_info": {
   "codemirror_mode": {
    "name": "ipython",
    "version": 3
   },
   "file_extension": ".py",
   "mimetype": "text/x-python",
   "name": "python",
   "nbconvert_exporter": "python",
   "pygments_lexer": "ipython3",
   "version": "3.7.3"
  }
 },
 "nbformat": 4,
 "nbformat_minor": 2
}
